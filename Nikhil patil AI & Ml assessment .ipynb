{
 "cells": [
  {
   "cell_type": "markdown",
   "id": "31fbaf36",
   "metadata": {},
   "source": [
    "# Coding Section : -\n",
    "1. Could we sum it?\n",
    "Let Ankur has given a large weight W, and a list of smaller weights in an array. He needs to write a\n",
    "code in order to find \"can we form weight W or not, using smaller weights\". He only knows dp\n",
    "solution. Could you write a code solution for him without using dp.\n",
    "Constraint: - list size <= 12\n",
    "Sample Input1: -\n",
    "W = 15\n",
    "list = {4, 3, 5, 6, 4}\n",
    "Output: - True\n",
    "Explanation: -\n",
    "15 =4 + 5 + 6.\n",
    "Sample Input2: -\n",
    "W = 9\n",
    "list = {4, 1, 3, 7}\n",
    "Output: - False.\n",
    "Explanation: - There is no way to sum up 7."
   ]
  },
  {
   "cell_type": "code",
   "execution_count": 2,
   "id": "da82b289",
   "metadata": {},
   "outputs": [
    {
     "name": "stdout",
     "output_type": "stream",
     "text": [
      "True\n",
      "False\n"
     ]
    }
   ],
   "source": [
    "def can_form_weight(W, weights):\n",
    "    n = len(weights)\n",
    "\n",
    "   \n",
    "    for i in range(1 << n):\n",
    "        subset_sum = 0\n",
    "\n",
    "        # Compute sum of current subset\n",
    "        for j in range(n):\n",
    "            if i & (1 << j):\n",
    "                subset_sum += weights[j]\n",
    "\n",
    "        # Check if sum equals the target weight\n",
    "        if subset_sum == W:\n",
    "            return True\n",
    "\n",
    "    return False\n",
    "\n",
    "# Example \n",
    "W1 = 15\n",
    "list1 = [4, 3, 5, 6, 4]\n",
    "print(can_form_weight(W1, list1))  \n",
    "\n",
    "W2 = 9\n",
    "list2 = [4, 1, 3, 7]\n",
    "print(can_form_weight(W2, list2))  \n"
   ]
  },
  {
   "cell_type": "markdown",
   "id": "6260932a",
   "metadata": {},
   "source": [
    "# Descriptive Section : -\n"
   ]
  },
  {
   "cell_type": "markdown",
   "id": "e1f08e6d",
   "metadata": {},
   "source": [
    "# 1. How Do You Handle Missing or Corrupted Data in a Dataset?\n",
    "Missing or corrupted data in a dataset can be handled by either removing\n",
    "the affected data points or by imputing/replacing the missing or corrupted\n",
    "values with estimated or interpolated values based on the available data.\n",
    "\n"
   ]
  },
  {
   "cell_type": "markdown",
   "id": "0b00eff8",
   "metadata": {},
   "source": [
    "# 2. What Are the Three Stages of Building a Model in Machine Learning?\n",
    "The three stages of building a model in machine learning are data preprocessing, model building, and model evaluation. Data preprocessing involves preparing the data by handling missing values, feature selection, normalization, and splitting into training and testing sets. Model building involves choosing an appropriate algorithm, training the model on the training data, and fine-tuning its parameters. Model evaluation involves assessing the model's performance on the testing data to measure its accuracy and effectiveness."
   ]
  },
  {
   "cell_type": "code",
   "execution_count": null,
   "id": "7b9a1c0f",
   "metadata": {},
   "outputs": [],
   "source": []
  }
 ],
 "metadata": {
  "kernelspec": {
   "display_name": "Python 3 (ipykernel)",
   "language": "python",
   "name": "python3"
  },
  "language_info": {
   "codemirror_mode": {
    "name": "ipython",
    "version": 3
   },
   "file_extension": ".py",
   "mimetype": "text/x-python",
   "name": "python",
   "nbconvert_exporter": "python",
   "pygments_lexer": "ipython3",
   "version": "3.9.12"
  }
 },
 "nbformat": 4,
 "nbformat_minor": 5
}
